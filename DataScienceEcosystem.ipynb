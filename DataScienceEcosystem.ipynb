{
 "cells": [
  {
   "cell_type": "markdown",
   "id": "94873146",
   "metadata": {},
   "source": [
    "# Exercise 1: Create a Jupyter Notebook\n",
    "\n",
    "Create a new Jupyter notebook called DataScienceEcosystem.ipynb"
   ]
  },
  {
   "cell_type": "markdown",
   "id": "dcf3192b",
   "metadata": {},
   "source": [
    "# Exercise 2:\n",
    "# Data Science Tools and Ecosystem"
   ]
  },
  {
   "cell_type": "markdown",
   "id": "b10ae6d0",
   "metadata": {},
   "source": [
    "# Exercise 3:\n",
    "### Introduction:\n",
    "### In this notebook, Data Science Tools and Ecosystem are summarized."
   ]
  },
  {
   "cell_type": "markdown",
   "id": "82b1c851",
   "metadata": {},
   "source": [
    "# Exercise 10:\n",
    "**Objectives:**\n",
    "List popular languages for Data Science:\n",
    "* R\n",
    "* Python\n",
    "* SQL"
   ]
  },
  {
   "cell_type": "markdown",
   "id": "20ad7f71",
   "metadata": {},
   "source": [
    "# Exercise 11:"
   ]
  },
  {
   "cell_type": "markdown",
   "id": "88ab3857",
   "metadata": {},
   "source": [
    "## Author\n",
    "Yilin"
   ]
  },
  {
   "cell_type": "markdown",
   "id": "056121cc",
   "metadata": {},
   "source": [
    "# Exercise 4:\n",
    "### Some of the popular languages that Data Scientists use are:\n",
    "1. R\n",
    "2. Python\n",
    "3. SQL\n"
   ]
  },
  {
   "cell_type": "markdown",
   "id": "0237b8f9",
   "metadata": {},
   "source": [
    "# Exercise 5:\n",
    "### Some of the commonly used libraries used by Data Scientists include:\n",
    "1. dplyr\n",
    "2. stringr\n",
    "3. ggplot"
   ]
  },
  {
   "cell_type": "markdown",
   "id": "601412fd",
   "metadata": {},
   "source": [
    "# Exercise 6:\n",
    "| Data Science Tools               |\n",
    "|----------------------------------|\n",
    "| Jupyter Notebooks                |\n",
    "| RStudio                          |\n",
    "| VS Code with Python Extension    |\n",
    "\n"
   ]
  },
  {
   "cell_type": "markdown",
   "id": "8722f011",
   "metadata": {},
   "source": [
    "# Exercise 7:\n",
    "### Below are a few examples of evaluating arithmetic expressions in Python:\n",
    "\n"
   ]
  },
  {
   "cell_type": "code",
   "execution_count": 1,
   "id": "e721b0cf",
   "metadata": {},
   "outputs": [
    {
     "name": "stdout",
     "output_type": "stream",
     "text": [
      "Addition: 8\n"
     ]
    }
   ],
   "source": [
    "result_addition = 5 + 3\n",
    "print(\"Addition:\", result_addition)\n"
   ]
  },
  {
   "cell_type": "markdown",
   "id": "5ab07658",
   "metadata": {},
   "source": [
    "# Exercise 8:"
   ]
  },
  {
   "cell_type": "code",
   "execution_count": 2,
   "id": "0a70e5d3",
   "metadata": {
    "scrolled": true
   },
   "outputs": [
    {
     "name": "stdout",
     "output_type": "stream",
     "text": [
      "multiplyandadd: 17\n"
     ]
    }
   ],
   "source": [
    "# This a simple arithmetic expression to mutiply then add integers\n",
    "result = (3*4)+5\n",
    "print(\"multiplyandadd:\", result)\n"
   ]
  },
  {
   "cell_type": "markdown",
   "id": "8f0bc3fd",
   "metadata": {},
   "source": [
    "# Exercise 9:"
   ]
  },
  {
   "cell_type": "code",
   "execution_count": 3,
   "id": "7342e447",
   "metadata": {},
   "outputs": [
    {
     "name": "stdout",
     "output_type": "stream",
     "text": [
      "convert 200 minutes to : 3.3333333333333335  hours\n"
     ]
    }
   ],
   "source": [
    "# This will convert 200 minutes to hours by diving by 60\n",
    "minutes = 200\n",
    "hours = minutes/60\n",
    "print(\"convert 200 minutes to :\", hours,\" hours\")"
   ]
  },
  {
   "cell_type": "code",
   "execution_count": null,
   "id": "eba23d17",
   "metadata": {},
   "outputs": [],
   "source": []
  },
  {
   "cell_type": "code",
   "execution_count": null,
   "id": "8e849aaa",
   "metadata": {},
   "outputs": [],
   "source": []
  },
  {
   "cell_type": "code",
   "execution_count": null,
   "id": "e5526389",
   "metadata": {},
   "outputs": [],
   "source": []
  },
  {
   "cell_type": "code",
   "execution_count": null,
   "id": "7f484496",
   "metadata": {},
   "outputs": [],
   "source": []
  },
  {
   "cell_type": "code",
   "execution_count": null,
   "id": "f8d98ba7",
   "metadata": {},
   "outputs": [],
   "source": []
  }
 ],
 "metadata": {
  "kernelspec": {
   "display_name": "Python 3 (ipykernel)",
   "language": "python",
   "name": "python3"
  },
  "language_info": {
   "codemirror_mode": {
    "name": "ipython",
    "version": 3
   },
   "file_extension": ".py",
   "mimetype": "text/x-python",
   "name": "python",
   "nbconvert_exporter": "python",
   "pygments_lexer": "ipython3",
   "version": "3.11.5"
  }
 },
 "nbformat": 4,
 "nbformat_minor": 5
}
